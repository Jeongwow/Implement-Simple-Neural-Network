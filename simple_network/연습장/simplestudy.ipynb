{
 "cells": [
  {
   "cell_type": "code",
   "execution_count": 1,
   "metadata": {},
   "outputs": [],
   "source": [
    "import numpy as np"
   ]
  },
  {
   "cell_type": "code",
   "execution_count": 11,
   "metadata": {},
   "outputs": [
    {
     "name": "stdout",
     "output_type": "stream",
     "text": [
      "[[0 1 2]\n",
      " [3 4 5]]\n",
      "[1 4 9]\n"
     ]
    }
   ],
   "source": [
    "a=[0,1,2,3,4,5]\n",
    "b=[1,4,9]\n",
    "a=np.array(a).reshape(2,3)\n",
    "b=np.array(b)\n",
    "print(a)\n",
    "print(b)"
   ]
  },
  {
   "cell_type": "code",
   "execution_count": 3,
   "metadata": {},
   "outputs": [
    {
     "name": "stdout",
     "output_type": "stream",
     "text": [
      "[[ 0  4 18]\n",
      " [ 3 16 45]]\n"
     ]
    }
   ],
   "source": [
    "print(a*b)"
   ]
  },
  {
   "cell_type": "code",
   "execution_count": 16,
   "metadata": {},
   "outputs": [],
   "source": [
    "a=np.arange(2*1*7*3).reshape(2,1,7,3)  # 2*1*7*3 Matrix 생성\n",
    "b=np.arange(1*5*1*3).reshape(  5,1,3)  # 5*1*3 Matrix 생성"
   ]
  },
  {
   "cell_type": "code",
   "execution_count": 17,
   "metadata": {},
   "outputs": [
    {
     "name": "stdout",
     "output_type": "stream",
     "text": [
      "[[[[  0   1   4]\n",
      "   [  0   4  10]\n",
      "   [  0   7  16]\n",
      "   [  0  10  22]\n",
      "   [  0  13  28]\n",
      "   [  0  16  34]\n",
      "   [  0  19  40]]\n",
      "\n",
      "  [[  0   4  10]\n",
      "   [  9  16  25]\n",
      "   [ 18  28  40]\n",
      "   [ 27  40  55]\n",
      "   [ 36  52  70]\n",
      "   [ 45  64  85]\n",
      "   [ 54  76 100]]\n",
      "\n",
      "  [[  0   7  16]\n",
      "   [ 18  28  40]\n",
      "   [ 36  49  64]\n",
      "   [ 54  70  88]\n",
      "   [ 72  91 112]\n",
      "   [ 90 112 136]\n",
      "   [108 133 160]]\n",
      "\n",
      "  [[  0  10  22]\n",
      "   [ 27  40  55]\n",
      "   [ 54  70  88]\n",
      "   [ 81 100 121]\n",
      "   [108 130 154]\n",
      "   [135 160 187]\n",
      "   [162 190 220]]\n",
      "\n",
      "  [[  0  13  28]\n",
      "   [ 36  52  70]\n",
      "   [ 72  91 112]\n",
      "   [108 130 154]\n",
      "   [144 169 196]\n",
      "   [180 208 238]\n",
      "   [216 247 280]]]\n",
      "\n",
      "\n",
      " [[[  0  22  46]\n",
      "   [  0  25  52]\n",
      "   [  0  28  58]\n",
      "   [  0  31  64]\n",
      "   [  0  34  70]\n",
      "   [  0  37  76]\n",
      "   [  0  40  82]]\n",
      "\n",
      "  [[ 63  88 115]\n",
      "   [ 72 100 130]\n",
      "   [ 81 112 145]\n",
      "   [ 90 124 160]\n",
      "   [ 99 136 175]\n",
      "   [108 148 190]\n",
      "   [117 160 205]]\n",
      "\n",
      "  [[126 154 184]\n",
      "   [144 175 208]\n",
      "   [162 196 232]\n",
      "   [180 217 256]\n",
      "   [198 238 280]\n",
      "   [216 259 304]\n",
      "   [234 280 328]]\n",
      "\n",
      "  [[189 220 253]\n",
      "   [216 250 286]\n",
      "   [243 280 319]\n",
      "   [270 310 352]\n",
      "   [297 340 385]\n",
      "   [324 370 418]\n",
      "   [351 400 451]]\n",
      "\n",
      "  [[252 286 322]\n",
      "   [288 325 364]\n",
      "   [324 364 406]\n",
      "   [360 403 448]\n",
      "   [396 442 490]\n",
      "   [432 481 532]\n",
      "   [468 520 574]]]]\n"
     ]
    }
   ],
   "source": [
    "print(a*b)"
   ]
  }
 ],
 "metadata": {
  "kernelspec": {
   "display_name": "newenv",
   "language": "python",
   "name": "python3"
  },
  "language_info": {
   "codemirror_mode": {
    "name": "ipython",
    "version": 3
   },
   "file_extension": ".py",
   "mimetype": "text/x-python",
   "name": "python",
   "nbconvert_exporter": "python",
   "pygments_lexer": "ipython3",
   "version": "3.9.15"
  },
  "orig_nbformat": 4,
  "vscode": {
   "interpreter": {
    "hash": "d687b6d8650b2ea4e21153130b22f15949f90b06ff6157902312f38eb51c9b0e"
   }
  }
 },
 "nbformat": 4,
 "nbformat_minor": 2
}
