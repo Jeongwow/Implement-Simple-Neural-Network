{
 "cells": [
  {
   "attachments": {},
   "cell_type": "markdown",
   "metadata": {},
   "source": [
    "## import"
   ]
  },
  {
   "cell_type": "code",
   "execution_count": 148,
   "metadata": {},
   "outputs": [],
   "source": [
    "import numpy as np\n",
    "import sys,os\n",
    "import random\n",
    "import matplotlib.pyplot as plt\n",
    "import csv\n",
    "import ast\n",
    "from collections import OrderedDict"
   ]
  },
  {
   "attachments": {},
   "cell_type": "markdown",
   "metadata": {},
   "source": [
    "## Input Data 생성\n",
    "\n",
    "x, y, z 데이터 중 \n",
    "\n",
    "x가 0~99이면    정답 => [1,0,0]\n",
    "\n",
    "x가 100~199이면 정답 => [0,1,0]\n",
    "\n",
    "x가 200~299이면 정답 => [0,0,1]"
   ]
  },
  {
   "cell_type": "code",
   "execution_count": 149,
   "metadata": {},
   "outputs": [
    {
     "name": "stdout",
     "output_type": "stream",
     "text": [
      "(1000, 3)\n"
     ]
    }
   ],
   "source": [
    "input_data=np.empty((0,3))\n",
    "t=np.empty((0,3))\n",
    "for i in range(1000):\n",
    "    input_data=np.append(input_data, np.array([[random.randrange(0,300) for j in range(3)]]),axis=0)\n",
    "    x=input_data[-1,0]\n",
    "    if x<100:\n",
    "        t=np.append(t,np.array([[1, 0, 0]]),axis=0)\n",
    "    elif x<200:\n",
    "        t=np.append(t,np.array([[0, 1, 0]]),axis=0)\n",
    "    elif x<300:\n",
    "        t=np.append(t,np.array([[0, 0, 1]]),axis=0)\n",
    "print(input_data.shape)"
   ]
  },
  {
   "attachments": {},
   "cell_type": "markdown",
   "metadata": {},
   "source": [
    "## Input Data Normalize  (0~1)\n",
    "\n",
    "정규화 식\n",
    "\n",
    "\n",
    "<img src = \"../simple_network/Data/normalize.png\" width = \"200\" height = \"75\">\n",
    "\n"
   ]
  },
  {
   "cell_type": "code",
   "execution_count": 150,
   "metadata": {},
   "outputs": [
    {
     "name": "stdout",
     "output_type": "stream",
     "text": [
      "[[157. 235. 255.]\n",
      " [250.  24. 200.]\n",
      " [133.  60. 106.]\n",
      " ...\n",
      " [ 79. 282. 164.]\n",
      " [167. 256. 158.]\n",
      " [220. 289.  48.]]\n",
      "[[0.52508361 0.78595318 0.85284281]\n",
      " [0.8361204  0.08026756 0.66889632]\n",
      " [0.44481605 0.2006689  0.35451505]\n",
      " ...\n",
      " [0.26421405 0.94314381 0.54849498]\n",
      " [0.55852843 0.85618729 0.52842809]\n",
      " [0.73578595 0.96655518 0.16053512]]\n"
     ]
    }
   ],
   "source": [
    "input_max=299\n",
    "input_min=0\n",
    "de=input_max-input_min\n",
    "normalize_input=np.zeros((1000,3),dtype=float)\n",
    "for i in range(1000):\n",
    "    for j in range(3):\n",
    "        normalize_input[i,j]=(input_data[i,j]-input_min)/de\n",
    "print(input_data)\n",
    "print(normalize_input)"
   ]
  },
  {
   "attachments": {},
   "cell_type": "markdown",
   "metadata": {},
   "source": [
    "### Input Data 파일에 저장"
   ]
  },
  {
   "cell_type": "code",
   "execution_count": 151,
   "metadata": {},
   "outputs": [],
   "source": [
    "np.savez(\"../simple_network/Data/input_data_set.npz\", input_data)\n",
    "np.savez(\"../simple_network/Data/t_set.npz\", t)"
   ]
  },
  {
   "attachments": {},
   "cell_type": "markdown",
   "metadata": {},
   "source": [
    "#### Input Data 파일 읽기 테스트\n",
    "\n",
    "np.savez()를 사용하여 numpy array 형 변수 읽어오기\n"
   ]
  },
  {
   "cell_type": "code",
   "execution_count": 152,
   "metadata": {},
   "outputs": [
    {
     "name": "stdout",
     "output_type": "stream",
     "text": [
      "[[157. 235. 255.]\n",
      " [250.  24. 200.]\n",
      " [133.  60. 106.]\n",
      " ...\n",
      " [ 79. 282. 164.]\n",
      " [167. 256. 158.]\n",
      " [220. 289.  48.]]\n",
      "[[0. 1. 0.]\n",
      " [0. 0. 1.]\n",
      " [0. 1. 0.]\n",
      " ...\n",
      " [1. 0. 0.]\n",
      " [0. 1. 0.]\n",
      " [0. 0. 1.]]\n"
     ]
    }
   ],
   "source": [
    "read_input=np.load(\"../simple_network/Data/input_data_set.npz\", allow_pickle=True)\n",
    "read_t=np.load(\"../simple_network/Data/t_set.npz\", allow_pickle=True)\n",
    "r_input_data=read_input[\"arr_0\"]\n",
    "r_t_data=read_t[\"arr_0\"]\n",
    "print(r_input_data)\n",
    "print(r_t_data)"
   ]
  },
  {
   "attachments": {},
   "cell_type": "markdown",
   "metadata": {},
   "source": [
    "## 가중치 W, 편향 B  생성 ##\n",
    "정규분포를 따르는 랜덤수로 생성\n",
    "\n",
    "0.01을 곱해주는 이유: w의 초기값이크면 gradient vanishing 문제가 발생할 수 있음.\n"
   ]
  },
  {
   "cell_type": "code",
   "execution_count": 153,
   "metadata": {},
   "outputs": [],
   "source": [
    "weight_init_std=0.01\n",
    "params={}\n",
    "params['W1']=weight_init_std*np.random.randn(3,4)\n",
    "params['B1']=np.zeros(4)\n",
    "params['W2']=weight_init_std*np.random.randn(4,4)\n",
    "params['B2']=np.zeros(4)\n",
    "params['W3']=weight_init_std*np.random.randn(4,3)\n",
    "params['B3']=np.zeros(3)"
   ]
  },
  {
   "attachments": {},
   "cell_type": "markdown",
   "metadata": {},
   "source": [
    "## 가중치 W, 편향 B weight_bias.npz 파일에 저장\n",
    "\n",
    "np.savez() --> 여러개의 배열을 1개의 압축되지 않은 *.npz 포맷 파일로 저장하기 (Save several arrays into a single file in uncompressed .npz format)"
   ]
  },
  {
   "cell_type": "code",
   "execution_count": 154,
   "metadata": {},
   "outputs": [],
   "source": [
    "np.savez(\"../simple_network/Data/weight_bias.npz\", **params)"
   ]
  },
  {
   "attachments": {},
   "cell_type": "markdown",
   "metadata": {},
   "source": [
    "##### dictionary형 변수 csv파일에 저장"
   ]
  },
  {
   "cell_type": "code",
   "execution_count": 155,
   "metadata": {},
   "outputs": [],
   "source": [
    "# open a file in write mode\n",
    "with open('../simple_network/Data/weight_bias.csv', 'w', newline='') as f:\n",
    "    # create a csv writer\n",
    "    writer = csv.writer(f)\n",
    "    # write the keys of the dictionary as the header row\n",
    "    writer.writerow(params.keys())\n",
    "    # write the values of the dictionary as a single row\n",
    "    writer.writerow(params.values())\n"
   ]
  },
  {
   "attachments": {},
   "cell_type": "markdown",
   "metadata": {},
   "source": [
    "npz 변수 파일 불러오기\n",
    "\n",
    "np.load(\"파일명\",allow_pickle=True)"
   ]
  },
  {
   "cell_type": "code",
   "execution_count": 156,
   "metadata": {},
   "outputs": [
    {
     "name": "stdout",
     "output_type": "stream",
     "text": [
      "{'W1': array([[-0.00964063, -0.01990779,  0.00089731,  0.00114854],\n",
      "       [-0.00585815,  0.00298772,  0.0022226 ,  0.00435183],\n",
      "       [-0.00045748,  0.00049898, -0.0093553 ,  0.00287388]]), 'B1': array([0., 0., 0., 0.]), 'W2': array([[ 0.00360427,  0.00408148, -0.01940716,  0.01444836],\n",
      "       [ 0.00192861, -0.00420865,  0.01740253, -0.00364087],\n",
      "       [ 0.01343954, -0.00818221,  0.0008271 , -0.01291058],\n",
      "       [-0.00661104, -0.01180191,  0.00197643,  0.004139  ]]), 'B2': array([0., 0., 0., 0.]), 'W3': array([[ 0.01197322,  0.01883354,  0.00714224],\n",
      "       [ 0.02284333,  0.01564103,  0.00611104],\n",
      "       [-0.00877363, -0.01621087, -0.00581673],\n",
      "       [-0.00537834, -0.01556024, -0.00054465]]), 'B3': array([0., 0., 0.])}\n",
      "{'W1': array([[-0.00964063, -0.01990779,  0.00089731,  0.00114854],\n",
      "       [-0.00585815,  0.00298772,  0.0022226 ,  0.00435183],\n",
      "       [-0.00045748,  0.00049898, -0.0093553 ,  0.00287388]]), 'B1': array([0., 0., 0., 0.]), 'W2': array([[ 0.00360427,  0.00408148, -0.01940716,  0.01444836],\n",
      "       [ 0.00192861, -0.00420865,  0.01740253, -0.00364087],\n",
      "       [ 0.01343954, -0.00818221,  0.0008271 , -0.01291058],\n",
      "       [-0.00661104, -0.01180191,  0.00197643,  0.004139  ]]), 'B2': array([0., 0., 0., 0.]), 'W3': array([[ 0.01197322,  0.01883354,  0.00714224],\n",
      "       [ 0.02284333,  0.01564103,  0.00611104],\n",
      "       [-0.00877363, -0.01621087, -0.00581673],\n",
      "       [-0.00537834, -0.01556024, -0.00054465]]), 'B3': array([0., 0., 0.])}\n"
     ]
    }
   ],
   "source": [
    "my_dictionary = np.load(\"../simple_network/Data/weight_bias.npz\", allow_pickle=True)\n",
    "paaa=dict(my_dictionary)\n",
    "print(paaa)\n",
    "print(params)"
   ]
  }
 ],
 "metadata": {
  "kernelspec": {
   "display_name": "newenv",
   "language": "python",
   "name": "python3"
  },
  "language_info": {
   "codemirror_mode": {
    "name": "ipython",
    "version": 3
   },
   "file_extension": ".py",
   "mimetype": "text/x-python",
   "name": "python",
   "nbconvert_exporter": "python",
   "pygments_lexer": "ipython3",
   "version": "3.9.15"
  },
  "orig_nbformat": 4,
  "vscode": {
   "interpreter": {
    "hash": "d687b6d8650b2ea4e21153130b22f15949f90b06ff6157902312f38eb51c9b0e"
   }
  }
 },
 "nbformat": 4,
 "nbformat_minor": 2
}
