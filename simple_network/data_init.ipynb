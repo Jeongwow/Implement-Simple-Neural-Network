{
 "cells": [
  {
   "attachments": {},
   "cell_type": "markdown",
   "metadata": {},
   "source": [
    "## import"
   ]
  },
  {
   "cell_type": "code",
   "execution_count": 67,
   "metadata": {},
   "outputs": [],
   "source": [
    "import numpy as np\n",
    "import sys,os\n",
    "import random\n",
    "import matplotlib.pyplot as plt\n",
    "import csv\n",
    "import ast\n",
    "from collections import OrderedDict"
   ]
  },
  {
   "attachments": {},
   "cell_type": "markdown",
   "metadata": {},
   "source": [
    "## Input Data 생성\n",
    "\n",
    "x, y, z 데이터 중 \n",
    "\n",
    "x가 0~99이면    정답 => [1,0,0]\n",
    "\n",
    "x가 100~199이면 정답 => [0,1,0]\n",
    "\n",
    "x가 200~299이면 정답 => [0,0,1]"
   ]
  },
  {
   "cell_type": "code",
   "execution_count": 68,
   "metadata": {},
   "outputs": [
    {
     "name": "stdout",
     "output_type": "stream",
     "text": [
      "(5000, 3)\n"
     ]
    }
   ],
   "source": [
    "input_data=np.empty((0,3))\n",
    "t=np.empty((0,3))\n",
    "for i in range(5000):\n",
    "    input_data=np.append(input_data, np.array([[random.randrange(0,300) for j in range(3)]]),axis=0)\n",
    "    x=input_data[-1,0]\n",
    "    if x<100:\n",
    "        t=np.append(t,np.array([[1, 0, 0]]),axis=0)\n",
    "    elif x<200:\n",
    "        t=np.append(t,np.array([[0, 1, 0]]),axis=0)\n",
    "    elif x<300:\n",
    "        t=np.append(t,np.array([[0, 0, 1]]),axis=0)\n",
    "print(input_data.shape)"
   ]
  },
  {
   "attachments": {},
   "cell_type": "markdown",
   "metadata": {},
   "source": [
    "추가미션\n",
    "\n",
    "R, G, B 순서대로 나열 된 데이터 t->(0,0,1),(0,0,1),(0,0,1),(0,0,1).....(0,1,0),(0,1,0),(0,1,0),(0,1,0)....(1,0,0),(1,0,0),(1,0,0),(1,0,0)"
   ]
  },
  {
   "cell_type": "code",
   "execution_count": 59,
   "metadata": {},
   "outputs": [],
   "source": [
    "input_data=np.empty((0,3))\n",
    "\n",
    "ax=np.empty((0,3))\n",
    "bx=np.empty((0,3))\n",
    "cx=np.empty((0,3))\n",
    "order_xyz=np.empty((0,3))\n",
    "\n",
    "at=np.empty((0,3))\n",
    "bt=np.empty((0,3))\n",
    "ct=np.empty((0,3))\n",
    "order_t=np.empty((0,3))\n",
    "for i in range(3000):\n",
    "    tmp= np.array([[random.randrange(0,300) for j in range(3)]])\n",
    "    x=tmp[0,0]\n",
    "    if x<100:\n",
    "        at=np.append(at,np.array([[1, 0, 0]]),axis=0)\n",
    "        ax=np.append(ax,tmp,axis=0)\n",
    "    elif x<200:\n",
    "        bt=np.append(bt,np.array([[0, 1, 0]]),axis=0)\n",
    "        bx=np.append(bx,tmp,axis=0)\n",
    "    elif x<300:\n",
    "        ct=np.append(ct,np.array([[0, 0, 1]]),axis=0)\n",
    "        cx=np.append(cx,tmp,axis=0)\n",
    "order_t=np.append(order_t,at,axis=0)\n",
    "order_t=np.append(order_t,bt,axis=0)\n",
    "order_t=np.append(order_t,ct,axis=0)\n",
    "\n",
    "order_xyz=np.append(order_xyz,ax,axis=0)\n",
    "order_xyz=np.append(order_xyz,bx,axis=0)\n",
    "order_xyz=np.append(order_xyz,cx,axis=0)\n",
    "\n",
    "ax=np.empty((0,3))\n",
    "bx=np.empty((0,3))\n",
    "cx=np.empty((0,3))\n",
    "\n",
    "at=np.empty((0,3))\n",
    "bt=np.empty((0,3))\n",
    "ct=np.empty((0,3))\n",
    "\n",
    "for i in range(1000):\n",
    "    tmp= np.array([[random.randrange(0,300) for j in range(3)]])\n",
    "    x=tmp[0,0]\n",
    "    if x<100:\n",
    "        at=np.append(at,np.array([[1, 0, 0]]),axis=0)\n",
    "        ax=np.append(ax,tmp,axis=0)\n",
    "    elif x<200:\n",
    "        bt=np.append(bt,np.array([[0, 1, 0]]),axis=0)\n",
    "        bx=np.append(bx,tmp,axis=0)\n",
    "    elif x<300:\n",
    "        ct=np.append(ct,np.array([[0, 0, 1]]),axis=0)\n",
    "        cx=np.append(cx,tmp,axis=0)\n",
    "order_t=np.append(order_t,at,axis=0)\n",
    "order_t=np.append(order_t,bt,axis=0)\n",
    "order_t=np.append(order_t,ct,axis=0)\n",
    "\n",
    "order_xyz=np.append(order_xyz,ax,axis=0)\n",
    "order_xyz=np.append(order_xyz,bx,axis=0)\n",
    "order_xyz=np.append(order_xyz,cx,axis=0)\n",
    "\n",
    "\n",
    "\n",
    "ax=np.empty((0,3))\n",
    "bx=np.empty((0,3))\n",
    "cx=np.empty((0,3))\n",
    "\n",
    "at=np.empty((0,3))\n",
    "bt=np.empty((0,3))\n",
    "ct=np.empty((0,3))\n",
    "\n",
    "for i in range(1000):\n",
    "    tmp= np.array([[random.randrange(0,300) for j in range(3)]])\n",
    "    x=tmp[0,0]\n",
    "    if x<100:\n",
    "        at=np.append(at,np.array([[1, 0, 0]]),axis=0)\n",
    "        ax=np.append(ax,tmp,axis=0)\n",
    "    elif x<200:\n",
    "        bt=np.append(bt,np.array([[0, 1, 0]]),axis=0)\n",
    "        bx=np.append(bx,tmp,axis=0)\n",
    "    elif x<300:\n",
    "        ct=np.append(ct,np.array([[0, 0, 1]]),axis=0)\n",
    "        cx=np.append(cx,tmp,axis=0)\n",
    "order_t=np.append(order_t,at,axis=0)\n",
    "order_t=np.append(order_t,bt,axis=0)\n",
    "order_t=np.append(order_t,ct,axis=0)\n",
    "\n",
    "order_xyz=np.append(order_xyz,ax,axis=0)\n",
    "order_xyz=np.append(order_xyz,bx,axis=0)\n",
    "order_xyz=np.append(order_xyz,cx,axis=0)\n"
   ]
  },
  {
   "cell_type": "code",
   "execution_count": 63,
   "metadata": {},
   "outputs": [],
   "source": [
    "\n",
    "input_data=order_xyz\n",
    "t =order_t\n",
    "\n",
    "# print(order_t[4901,2])\n",
    "# print(order_t.shape[0])"
   ]
  },
  {
   "attachments": {},
   "cell_type": "markdown",
   "metadata": {},
   "source": [
    "## Input Data Normalize  (0~1)\n",
    "\n",
    "정규화 식\n",
    "\n",
    "\n",
    "<img src = \"../simple_network/Data/normalize.png\" width = \"200\" height = \"75\">\n",
    "\n"
   ]
  },
  {
   "cell_type": "code",
   "execution_count": 69,
   "metadata": {},
   "outputs": [
    {
     "name": "stdout",
     "output_type": "stream",
     "text": [
      "[[191. 174.  31.]\n",
      " [196. 152. 133.]\n",
      " [274. 170. 228.]\n",
      " ...\n",
      " [296.   6. 108.]\n",
      " [ 88. 189. 143.]\n",
      " [ 14. 109.  26.]]\n",
      "[[0.63879599 0.5819398  0.10367893]\n",
      " [0.65551839 0.5083612  0.44481605]\n",
      " [0.91638796 0.56856187 0.76254181]\n",
      " ...\n",
      " [0.98996656 0.02006689 0.36120401]\n",
      " [0.29431438 0.63210702 0.47826087]\n",
      " [0.04682274 0.36454849 0.08695652]]\n"
     ]
    }
   ],
   "source": [
    "input_max=299\n",
    "input_min=0\n",
    "de=input_max-input_min\n",
    "normalize_input=np.zeros((5000,3),dtype=float)\n",
    "for i in range(5000):\n",
    "    for j in range(3):\n",
    "        normalize_input[i,j]=(input_data[i,j]-input_min)/de\n",
    "print(input_data)\n",
    "print(normalize_input)"
   ]
  },
  {
   "cell_type": "code",
   "execution_count": 70,
   "metadata": {},
   "outputs": [],
   "source": [
    "np.savez(\"../simple_network/Data/input_data_set.npz\", normalize_input)\n",
    "np.savez(\"../simple_network/Data/t_set.npz\", t)\n"
   ]
  },
  {
   "cell_type": "code",
   "execution_count": 98,
   "metadata": {},
   "outputs": [],
   "source": [
    "# colum vector로 csv파일에 저장\n",
    "# np.savetxt(\"input.csv\", normalize_input, delimiter=\"\\n\")\n",
    "\n",
    "np.savetxt(\"input.csv\", normalize_input, delimiter=\",\")\n",
    "np.savetxt(\"ttt.csv\", t, delimiter=\",\")\n"
   ]
  },
  {
   "cell_type": "code",
   "execution_count": 101,
   "metadata": {},
   "outputs": [],
   "source": [
    "np.savetxt(\"no_normal_input.csv\", input_data, delimiter=\"\\n\")"
   ]
  },
  {
   "attachments": {},
   "cell_type": "markdown",
   "metadata": {},
   "source": [
    "#### Input Data 파일 읽기 테스트\n",
    "\n",
    "np.savez()를 사용하여 numpy array 형 변수 읽어오기\n"
   ]
  },
  {
   "cell_type": "code",
   "execution_count": 346,
   "metadata": {},
   "outputs": [
    {
     "name": "stdout",
     "output_type": "stream",
     "text": [
      "[[0.65551839 0.56187291 0.17725753]\n",
      " [0.64548495 0.76254181 0.32441472]\n",
      " [0.78929766 0.93979933 0.22073579]\n",
      " ...\n",
      " [0.97993311 0.11036789 0.98327759]\n",
      " [0.58528428 0.23745819 0.69230769]\n",
      " [0.37792642 0.81270903 0.59531773]]\n",
      "[[0. 1. 0.]\n",
      " [0. 1. 0.]\n",
      " [0. 0. 1.]\n",
      " ...\n",
      " [0. 0. 1.]\n",
      " [0. 1. 0.]\n",
      " [0. 1. 0.]]\n"
     ]
    }
   ],
   "source": [
    "read_input=np.load(\"../simple_network/Data/input_data_set.npz\", allow_pickle=True)\n",
    "read_t=np.load(\"../simple_network/Data/t_set.npz\", allow_pickle=True)\n",
    "r_input_data=read_input[\"arr_0\"]\n",
    "r_t_data=read_t[\"arr_0\"]\n",
    "print(r_input_data)\n",
    "print(r_t_data)"
   ]
  },
  {
   "attachments": {},
   "cell_type": "markdown",
   "metadata": {},
   "source": [
    "## 가중치 W, 편향 B  생성 ##\n",
    "1. 정규분포를 따르는 랜덤수로 생성   (np.random.randn()을 사용하면 \"평균 = 0, 표준편차 = 1\"인 랜덤수가 생성됨.)\n",
    "    \n",
    "    0.01을 곱해주는 이유: w의 초기값이크면 gradient vanishing 문제가 발생할 수 있음.\n",
    "\n",
    "    따라서 초기 가중치 값에 0.01을 곱해 표준편차를 0.01로 만들어줌.\n"
   ]
  },
  {
   "cell_type": "code",
   "execution_count": 78,
   "metadata": {},
   "outputs": [],
   "source": [
    "weight_init_std=0.1\n",
    "params={}\n",
    "params['W1']=weight_init_std*np.random.randn(3,4)\n",
    "params['B1']=np.zeros(4)\n",
    "params['W2']=weight_init_std*np.random.randn(4,4)\n",
    "params['B2']=np.zeros(4)\n",
    "params['W3']=weight_init_std*np.random.randn(4,3)\n",
    "params['B3']=np.zeros(3)\n"
   ]
  },
  {
   "attachments": {},
   "cell_type": "markdown",
   "metadata": {},
   "source": [
    "2. constant로 생성"
   ]
  },
  {
   "cell_type": "code",
   "execution_count": 348,
   "metadata": {},
   "outputs": [],
   "source": [
    "# params['W1']=np.zeros((3,4))\n",
    "# params['B1']=np.zeros(4)\n",
    "# params['W2']=np.zeros((4,4))\n",
    "# params['B2']=np.zeros(4)\n",
    "# params['W3']=np.zeros((4,3))\n",
    "# params['B3']=np.zeros(3)\n",
    "\n",
    "# params['W1'].fill(0.1)\n",
    "# params['W2'].fill(0.1)\n",
    "# params['W3'].fill(0.1)\n"
   ]
  },
  {
   "attachments": {},
   "cell_type": "markdown",
   "metadata": {},
   "source": [
    "3. 균일분포를 따르는 랜덤수로 생성"
   ]
  },
  {
   "cell_type": "code",
   "execution_count": 349,
   "metadata": {},
   "outputs": [],
   "source": [
    "# weight_init_std=0.01\n",
    "# params={}\n",
    "# params['W1']=np.random.uniform(-1,1,(3,4))\n",
    "# params['B1']=np.zeros(4)\n",
    "# params['W2']=np.random.uniform(-1,1,(4,4))\n",
    "# params['B2']=np.zeros(4)\n",
    "# params['W3']=np.random.uniform(-1,1,(4,3))\n",
    "# params['B3']=np.zeros(3)\n",
    "# print(params)"
   ]
  },
  {
   "attachments": {},
   "cell_type": "markdown",
   "metadata": {},
   "source": [
    "## 가중치 W, 편향 B weight_bias.npz 파일에 저장\n",
    "\n",
    "np.savez() --> 여러개의 배열을 1개의 압축되지 않은 *.npz 포맷 파일로 저장하기 (Save several arrays into a single file in uncompressed .npz format)"
   ]
  },
  {
   "cell_type": "code",
   "execution_count": 79,
   "metadata": {},
   "outputs": [],
   "source": [
    "np.savez(\"../simple_network/Data/weight_bias.npz\", **params)"
   ]
  },
  {
   "attachments": {},
   "cell_type": "markdown",
   "metadata": {},
   "source": [
    "##### dictionary형 변수 csv파일에 저장"
   ]
  },
  {
   "cell_type": "code",
   "execution_count": 80,
   "metadata": {},
   "outputs": [],
   "source": [
    "# open a file in write mode\n",
    "# with open('../simple_network/Data/weight_bias.csv', 'w', newline='') as f:\n",
    "#     # create a csv writer\n",
    "#     writer = csv.writer(f)\n",
    "#     # write the keys of the dictionary as the header row\n",
    "#     writer.writerow(params.keys())\n",
    "#     # write the values of the dictionary as a single row\n",
    "#     writer.writerow(params.values())\n",
    "\n",
    "new_params={}\n",
    "new_params['W1']=params['W1']\n",
    "new_params['W2']=params['W2']\n",
    "new_params['W3']=params['W3']\n",
    "with open('eeeeeeeee.csv', 'w', newline='') as csvfile:\n",
    "    # Create a CSV writer\n",
    "    writer = csv.writer(csvfile)\n",
    "\n",
    "    # Write the values of the W1, W2, and W3 arrays to the CSV file\n",
    "    for key, value in new_params.items():\n",
    "        writer.writerows(value)"
   ]
  },
  {
   "attachments": {},
   "cell_type": "markdown",
   "metadata": {},
   "source": [
    "npz 변수 파일 불러오기\n",
    "\n",
    "np.load(\"파일명\",allow_pickle=True)"
   ]
  },
  {
   "cell_type": "code",
   "execution_count": 352,
   "metadata": {},
   "outputs": [
    {
     "name": "stdout",
     "output_type": "stream",
     "text": [
      "{'W1': array([[ 1.388474  ,  0.7743251 ,  0.93929876,  0.4429259 ],\n",
      "       [-0.71189431,  1.02840116,  2.15536279, -0.59042978],\n",
      "       [ 0.29938707, -0.68912052, -0.53406847,  0.5122242 ]]), 'B1': array([0., 0., 0., 0.]), 'W2': array([[ 0.60578169, -2.57270916,  1.3943899 , -0.22412641],\n",
      "       [-0.37827146, -0.43382424,  2.02736543,  0.33435353],\n",
      "       [ 0.57139648, -0.03689031,  0.78209073, -0.7718887 ],\n",
      "       [ 0.17709309,  1.05623998,  2.26935956, -1.03287888]]), 'B2': array([0., 0., 0., 0.]), 'W3': array([[ 1.6043027 , -2.06926336, -1.78399435],\n",
      "       [-1.48888706, -0.57544497,  0.27609352],\n",
      "       [ 0.25916228, -0.24607088, -0.75507196],\n",
      "       [ 0.93656552,  0.66641827, -0.19198389]]), 'B3': array([0., 0., 0.])}\n",
      "{'W1': array([[ 1.388474  ,  0.7743251 ,  0.93929876,  0.4429259 ],\n",
      "       [-0.71189431,  1.02840116,  2.15536279, -0.59042978],\n",
      "       [ 0.29938707, -0.68912052, -0.53406847,  0.5122242 ]]), 'B1': array([0., 0., 0., 0.]), 'W2': array([[ 0.60578169, -2.57270916,  1.3943899 , -0.22412641],\n",
      "       [-0.37827146, -0.43382424,  2.02736543,  0.33435353],\n",
      "       [ 0.57139648, -0.03689031,  0.78209073, -0.7718887 ],\n",
      "       [ 0.17709309,  1.05623998,  2.26935956, -1.03287888]]), 'B2': array([0., 0., 0., 0.]), 'W3': array([[ 1.6043027 , -2.06926336, -1.78399435],\n",
      "       [-1.48888706, -0.57544497,  0.27609352],\n",
      "       [ 0.25916228, -0.24607088, -0.75507196],\n",
      "       [ 0.93656552,  0.66641827, -0.19198389]]), 'B3': array([0., 0., 0.])}\n"
     ]
    }
   ],
   "source": [
    "my_dictionary = np.load(\"../simple_network/Data/weight_bias.npz\", allow_pickle=True)\n",
    "paaa=dict(my_dictionary)\n",
    "print(paaa)\n",
    "print(params)"
   ]
  }
 ],
 "metadata": {
  "kernelspec": {
   "display_name": "newenv",
   "language": "python",
   "name": "python3"
  },
  "language_info": {
   "codemirror_mode": {
    "name": "ipython",
    "version": 3
   },
   "file_extension": ".py",
   "mimetype": "text/x-python",
   "name": "python",
   "nbconvert_exporter": "python",
   "pygments_lexer": "ipython3",
   "version": "3.9.15"
  },
  "orig_nbformat": 4,
  "vscode": {
   "interpreter": {
    "hash": "d687b6d8650b2ea4e21153130b22f15949f90b06ff6157902312f38eb51c9b0e"
   }
  }
 },
 "nbformat": 4,
 "nbformat_minor": 2
}
