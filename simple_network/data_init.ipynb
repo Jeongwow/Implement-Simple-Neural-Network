{
 "cells": [
  {
   "attachments": {},
   "cell_type": "markdown",
   "metadata": {},
   "source": [
    "## import"
   ]
  },
  {
   "cell_type": "code",
   "execution_count": 276,
   "metadata": {},
   "outputs": [],
   "source": [
    "import numpy as np\n",
    "import sys,os\n",
    "import random\n",
    "import matplotlib.pyplot as plt\n",
    "import csv\n",
    "import ast\n",
    "from collections import OrderedDict"
   ]
  },
  {
   "attachments": {},
   "cell_type": "markdown",
   "metadata": {},
   "source": [
    "## Input Data 생성\n",
    "\n",
    "x, y, z 데이터 중 \n",
    "\n",
    "x가 0~99이면    정답 => [1,0,0]\n",
    "\n",
    "x가 100~199이면 정답 => [0,1,0]\n",
    "\n",
    "x가 200~299이면 정답 => [0,0,1]"
   ]
  },
  {
   "cell_type": "code",
   "execution_count": 277,
   "metadata": {},
   "outputs": [
    {
     "name": "stdout",
     "output_type": "stream",
     "text": [
      "(1000, 3)\n"
     ]
    }
   ],
   "source": [
    "input_data=np.empty((0,3))\n",
    "t=np.empty((0,3))\n",
    "for i in range(1000):\n",
    "    input_data=np.append(input_data, np.array([[random.randrange(0,300) for j in range(3)]]),axis=0)\n",
    "    x=input_data[-1,0]\n",
    "    if x<100:\n",
    "        t=np.append(t,np.array([[1, 0, 0]]),axis=0)\n",
    "    elif x<200:\n",
    "        t=np.append(t,np.array([[0, 1, 0]]),axis=0)\n",
    "    elif x<300:\n",
    "        t=np.append(t,np.array([[0, 0, 1]]),axis=0)\n",
    "print(input_data.shape)"
   ]
  },
  {
   "attachments": {},
   "cell_type": "markdown",
   "metadata": {},
   "source": [
    "## Input Data Normalize  (0~1)\n",
    "\n",
    "정규화 식\n",
    "\n",
    "\n",
    "<img src = \"../simple_network/Data/normalize.png\" width = \"200\" height = \"75\">\n",
    "\n"
   ]
  },
  {
   "cell_type": "code",
   "execution_count": 278,
   "metadata": {},
   "outputs": [
    {
     "name": "stdout",
     "output_type": "stream",
     "text": [
      "[[ 38.  64. 270.]\n",
      " [155. 111. 173.]\n",
      " [260. 133. 248.]\n",
      " ...\n",
      " [ 27.  49.  98.]\n",
      " [111. 174. 107.]\n",
      " [208. 290. 197.]]\n",
      "[[0.1270903  0.21404682 0.90301003]\n",
      " [0.51839465 0.37123746 0.57859532]\n",
      " [0.86956522 0.44481605 0.82943144]\n",
      " ...\n",
      " [0.090301   0.1638796  0.3277592 ]\n",
      " [0.37123746 0.5819398  0.35785953]\n",
      " [0.69565217 0.96989967 0.65886288]]\n"
     ]
    }
   ],
   "source": [
    "input_max=299\n",
    "input_min=0\n",
    "de=input_max-input_min\n",
    "normalize_input=np.zeros((1000,3),dtype=float)\n",
    "for i in range(1000):\n",
    "    for j in range(3):\n",
    "        normalize_input[i,j]=(input_data[i,j]-input_min)/de\n",
    "print(input_data)\n",
    "print(normalize_input)"
   ]
  },
  {
   "attachments": {},
   "cell_type": "markdown",
   "metadata": {},
   "source": [
    "### Input Data 파일에 저장"
   ]
  },
  {
   "cell_type": "code",
   "execution_count": 290,
   "metadata": {},
   "outputs": [],
   "source": [
    "np.savez(\"../simple_network/Data/input_data_set.npz\", input_data)\n",
    "np.savez(\"../simple_network/Data/t_set.npz\", t)\n",
    "\n",
    "\n",
    "with open('input.csv', 'w', newline='') as csvfile:\n",
    "    # Create a CSV writer\n",
    "    writer = csv.writer(csvfile)\n",
    "\n",
    "    # Write the rows of the list to the CSV file\n",
    "    for row in input_data:\n",
    "        writer.writerow(row)\n",
    "\n",
    "with open('ttt.csv', 'w', newline='') as csvfile:\n",
    "    # Create a CSV writer\n",
    "    writer = csv.writer(csvfile)\n",
    "\n",
    "    # Write the rows of the list to the CSV file\n",
    "    for row in t:\n",
    "        writer.writerow(row)"
   ]
  },
  {
   "attachments": {},
   "cell_type": "markdown",
   "metadata": {},
   "source": [
    "#### Input Data 파일 읽기 테스트\n",
    "\n",
    "np.savez()를 사용하여 numpy array 형 변수 읽어오기\n"
   ]
  },
  {
   "cell_type": "code",
   "execution_count": 280,
   "metadata": {},
   "outputs": [
    {
     "name": "stdout",
     "output_type": "stream",
     "text": [
      "[[ 38.  64. 270.]\n",
      " [155. 111. 173.]\n",
      " [260. 133. 248.]\n",
      " ...\n",
      " [ 27.  49.  98.]\n",
      " [111. 174. 107.]\n",
      " [208. 290. 197.]]\n",
      "[[1. 0. 0.]\n",
      " [0. 1. 0.]\n",
      " [0. 0. 1.]\n",
      " ...\n",
      " [1. 0. 0.]\n",
      " [0. 1. 0.]\n",
      " [0. 0. 1.]]\n"
     ]
    }
   ],
   "source": [
    "read_input=np.load(\"../simple_network/Data/input_data_set.npz\", allow_pickle=True)\n",
    "read_t=np.load(\"../simple_network/Data/t_set.npz\", allow_pickle=True)\n",
    "r_input_data=read_input[\"arr_0\"]\n",
    "r_t_data=read_t[\"arr_0\"]\n",
    "print(r_input_data)\n",
    "print(r_t_data)"
   ]
  },
  {
   "attachments": {},
   "cell_type": "markdown",
   "metadata": {},
   "source": [
    "## 가중치 W, 편향 B  생성 ##\n",
    "1. 정규분포를 따르는 랜덤수로 생성   (np.random.randn()을 사용하면 \"평균 = 0, 표준편차 = 1\"인 랜덤수가 생성됨.)\n",
    "    \n",
    "    0.01을 곱해주는 이유: w의 초기값이크면 gradient vanishing 문제가 발생할 수 있음.\n",
    "\n",
    "    따라서 초기 가중치 값에 0.01을 곱해 표준편차를 0.01로 만들어줌.\n"
   ]
  },
  {
   "cell_type": "code",
   "execution_count": 306,
   "metadata": {},
   "outputs": [],
   "source": [
    "weight_init_std=1\n",
    "params={}\n",
    "params['W1']=weight_init_std*np.random.randn(3,4)\n",
    "params['B1']=np.zeros(4)\n",
    "params['W2']=weight_init_std*np.random.randn(4,4)\n",
    "params['B2']=np.zeros(4)\n",
    "params['W3']=weight_init_std*np.random.randn(4,3)\n",
    "params['B3']=np.zeros(3)\n"
   ]
  },
  {
   "attachments": {},
   "cell_type": "markdown",
   "metadata": {},
   "source": [
    "2. constant로 생성"
   ]
  },
  {
   "cell_type": "code",
   "execution_count": 282,
   "metadata": {},
   "outputs": [],
   "source": [
    "# params['W1']=np.zeros((3,4))\n",
    "# params['B1']=np.zeros(4)\n",
    "# params['W2']=np.zeros((4,4))\n",
    "# params['B2']=np.zeros(4)\n",
    "# params['W3']=np.zeros((4,3))\n",
    "# params['B3']=np.zeros(3)\n",
    "\n",
    "# params['W1'].fill(0.1)\n",
    "# params['W2'].fill(0.1)\n",
    "# params['W3'].fill(0.1)\n"
   ]
  },
  {
   "attachments": {},
   "cell_type": "markdown",
   "metadata": {},
   "source": [
    "3. 균일분포를 따르는 랜덤수로 생성"
   ]
  },
  {
   "cell_type": "code",
   "execution_count": 283,
   "metadata": {},
   "outputs": [],
   "source": [
    "# weight_init_std=0.01\n",
    "# params={}\n",
    "# params['W1']=np.random.uniform(-1,1,(3,4))\n",
    "# params['B1']=np.zeros(4)\n",
    "# params['W2']=np.random.uniform(-1,1,(4,4))\n",
    "# params['B2']=np.zeros(4)\n",
    "# params['W3']=np.random.uniform(-1,1,(4,3))\n",
    "# params['B3']=np.zeros(3)\n",
    "# print(params)"
   ]
  },
  {
   "attachments": {},
   "cell_type": "markdown",
   "metadata": {},
   "source": [
    "## 가중치 W, 편향 B weight_bias.npz 파일에 저장\n",
    "\n",
    "np.savez() --> 여러개의 배열을 1개의 압축되지 않은 *.npz 포맷 파일로 저장하기 (Save several arrays into a single file in uncompressed .npz format)"
   ]
  },
  {
   "cell_type": "code",
   "execution_count": 289,
   "metadata": {},
   "outputs": [],
   "source": [
    "np.savez(\"../simple_network/Data/weight_bias.npz\", **params)"
   ]
  },
  {
   "attachments": {},
   "cell_type": "markdown",
   "metadata": {},
   "source": [
    "##### dictionary형 변수 csv파일에 저장"
   ]
  },
  {
   "cell_type": "code",
   "execution_count": 307,
   "metadata": {},
   "outputs": [],
   "source": [
    "# open a file in write mode\n",
    "with open('../simple_network/Data/weight_bias.csv', 'w', newline='') as f:\n",
    "    # create a csv writer\n",
    "    writer = csv.writer(f)\n",
    "    # write the keys of the dictionary as the header row\n",
    "    writer.writerow(params.keys())\n",
    "    # write the values of the dictionary as a single row\n",
    "    writer.writerow(params.values())\n",
    "\n",
    "# new_params={}\n",
    "# new_params['W1']=params['W1']\n",
    "# new_params['W2']=params['W2']\n",
    "# new_params['W3']=params['W3']\n",
    "# with open('eeeeeeeee.csv', 'w', newline='') as csvfile:\n",
    "#     # Create a CSV writer\n",
    "#     writer = csv.writer(csvfile)\n",
    "\n",
    "#     # Write the values of the W1, W2, and W3 arrays to the CSV file\n",
    "#     for key, value in new_params.items():\n",
    "#         writer.writerows(value)"
   ]
  },
  {
   "attachments": {},
   "cell_type": "markdown",
   "metadata": {},
   "source": [
    "npz 변수 파일 불러오기\n",
    "\n",
    "np.load(\"파일명\",allow_pickle=True)"
   ]
  },
  {
   "cell_type": "code",
   "execution_count": 286,
   "metadata": {},
   "outputs": [
    {
     "name": "stdout",
     "output_type": "stream",
     "text": [
      "{'W1': array([[-0.01001585, -0.01367141,  0.00324272,  0.01296843],\n",
      "       [ 0.01303907, -0.00629541,  0.01125086,  0.01020688],\n",
      "       [-0.00769062,  0.00965486,  0.01910086,  0.02126137]]), 'B1': array([0., 0., 0., 0.]), 'W2': array([[ 0.00883512, -0.00668806,  0.00908893,  0.01812063],\n",
      "       [-0.0025648 ,  0.00157932, -0.01517578,  0.00087346],\n",
      "       [ 0.00944193, -0.01055826,  0.00127665, -0.0296165 ],\n",
      "       [ 0.021103  ,  0.0058067 , -0.00734992, -0.00285864]]), 'B2': array([0., 0., 0., 0.]), 'W3': array([[-9.26541726e-03, -5.07083010e-03, -1.87769771e-02],\n",
      "       [ 5.79218276e-03,  1.46035095e-02,  1.49302147e-02],\n",
      "       [-7.57663035e-03,  1.07737976e-02, -1.18589639e-02],\n",
      "       [-5.33776501e-03,  2.76365415e-03, -7.24315098e-05]]), 'B3': array([0., 0., 0.])}\n",
      "{'W1': array([[-0.01001585, -0.01367141,  0.00324272,  0.01296843],\n",
      "       [ 0.01303907, -0.00629541,  0.01125086,  0.01020688],\n",
      "       [-0.00769062,  0.00965486,  0.01910086,  0.02126137]]), 'B1': array([0., 0., 0., 0.]), 'W2': array([[ 0.00883512, -0.00668806,  0.00908893,  0.01812063],\n",
      "       [-0.0025648 ,  0.00157932, -0.01517578,  0.00087346],\n",
      "       [ 0.00944193, -0.01055826,  0.00127665, -0.0296165 ],\n",
      "       [ 0.021103  ,  0.0058067 , -0.00734992, -0.00285864]]), 'B2': array([0., 0., 0., 0.]), 'W3': array([[-9.26541726e-03, -5.07083010e-03, -1.87769771e-02],\n",
      "       [ 5.79218276e-03,  1.46035095e-02,  1.49302147e-02],\n",
      "       [-7.57663035e-03,  1.07737976e-02, -1.18589639e-02],\n",
      "       [-5.33776501e-03,  2.76365415e-03, -7.24315098e-05]]), 'B3': array([0., 0., 0.])}\n"
     ]
    }
   ],
   "source": [
    "my_dictionary = np.load(\"../simple_network/Data/weight_bias.npz\", allow_pickle=True)\n",
    "paaa=dict(my_dictionary)\n",
    "print(paaa)\n",
    "print(params)"
   ]
  }
 ],
 "metadata": {
  "kernelspec": {
   "display_name": "newenv",
   "language": "python",
   "name": "python3"
  },
  "language_info": {
   "codemirror_mode": {
    "name": "ipython",
    "version": 3
   },
   "file_extension": ".py",
   "mimetype": "text/x-python",
   "name": "python",
   "nbconvert_exporter": "python",
   "pygments_lexer": "ipython3",
   "version": "3.9.15"
  },
  "orig_nbformat": 4,
  "vscode": {
   "interpreter": {
    "hash": "d687b6d8650b2ea4e21153130b22f15949f90b06ff6157902312f38eb51c9b0e"
   }
  }
 },
 "nbformat": 4,
 "nbformat_minor": 2
}
