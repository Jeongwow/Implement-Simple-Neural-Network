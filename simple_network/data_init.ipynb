{
 "cells": [
  {
   "attachments": {},
   "cell_type": "markdown",
   "metadata": {},
   "source": [
    "## import"
   ]
  },
  {
   "cell_type": "code",
   "execution_count": 252,
   "metadata": {},
   "outputs": [],
   "source": [
    "import numpy as np\n",
    "import sys,os\n",
    "import random\n",
    "import matplotlib.pyplot as plt\n",
    "import csv\n",
    "import ast\n",
    "from collections import OrderedDict"
   ]
  },
  {
   "attachments": {},
   "cell_type": "markdown",
   "metadata": {},
   "source": [
    "## Input Data 생성\n",
    "\n",
    "x, y, z 데이터 중 \n",
    "\n",
    "x가 0~99이면    정답 => [1,0,0]\n",
    "\n",
    "x가 100~199이면 정답 => [0,1,0]\n",
    "\n",
    "x가 200~299이면 정답 => [0,0,1]"
   ]
  },
  {
   "cell_type": "code",
   "execution_count": 232,
   "metadata": {},
   "outputs": [
    {
     "name": "stdout",
     "output_type": "stream",
     "text": [
      "(1000, 3)\n"
     ]
    }
   ],
   "source": [
    "input_data=np.empty((0,3))\n",
    "t=np.empty((0,3))\n",
    "for i in range(1000):\n",
    "    input_data=np.append(input_data, np.array([[random.randrange(0,300) for j in range(3)]]),axis=0)\n",
    "    x=input_data[-1,0]\n",
    "    if x<100:\n",
    "        t=np.append(t,np.array([[1, 0, 0]]),axis=0)\n",
    "    elif x<200:\n",
    "        t=np.append(t,np.array([[0, 1, 0]]),axis=0)\n",
    "    elif x<300:\n",
    "        t=np.append(t,np.array([[0, 0, 1]]),axis=0)\n",
    "print(input_data.shape)"
   ]
  },
  {
   "attachments": {},
   "cell_type": "markdown",
   "metadata": {},
   "source": [
    "## Input Data Normalize  (0~1)\n",
    "\n",
    "정규화 식\n",
    "\n",
    "\n",
    "<img src = \"../simple_network/Data/normalize.png\" width = \"200\" height = \"75\">\n",
    "\n"
   ]
  },
  {
   "cell_type": "code",
   "execution_count": 233,
   "metadata": {},
   "outputs": [
    {
     "name": "stdout",
     "output_type": "stream",
     "text": [
      "[[119. 120. 239.]\n",
      " [ 94.   8. 173.]\n",
      " [239. 112. 182.]\n",
      " ...\n",
      " [262. 177. 131.]\n",
      " [268.  55. 188.]\n",
      " [148.  12. 155.]]\n",
      "[[0.39799331 0.40133779 0.7993311 ]\n",
      " [0.31438127 0.02675585 0.57859532]\n",
      " [0.7993311  0.37458194 0.60869565]\n",
      " ...\n",
      " [0.87625418 0.59197324 0.43812709]\n",
      " [0.89632107 0.18394649 0.62876254]\n",
      " [0.49498328 0.04013378 0.51839465]]\n"
     ]
    }
   ],
   "source": [
    "input_max=299\n",
    "input_min=0\n",
    "de=input_max-input_min\n",
    "normalize_input=np.zeros((1000,3),dtype=float)\n",
    "for i in range(1000):\n",
    "    for j in range(3):\n",
    "        normalize_input[i,j]=(input_data[i,j]-input_min)/de\n",
    "print(input_data)\n",
    "print(normalize_input)"
   ]
  },
  {
   "attachments": {},
   "cell_type": "markdown",
   "metadata": {},
   "source": [
    "### Input Data 파일에 저장"
   ]
  },
  {
   "cell_type": "code",
   "execution_count": 234,
   "metadata": {},
   "outputs": [],
   "source": [
    "np.savez(\"../simple_network/Data/input_data_set.npz\", input_data)\n",
    "np.savez(\"../simple_network/Data/t_set.npz\", t)"
   ]
  },
  {
   "attachments": {},
   "cell_type": "markdown",
   "metadata": {},
   "source": [
    "#### Input Data 파일 읽기 테스트\n",
    "\n",
    "np.savez()를 사용하여 numpy array 형 변수 읽어오기\n"
   ]
  },
  {
   "cell_type": "code",
   "execution_count": 235,
   "metadata": {},
   "outputs": [
    {
     "name": "stdout",
     "output_type": "stream",
     "text": [
      "[[119. 120. 239.]\n",
      " [ 94.   8. 173.]\n",
      " [239. 112. 182.]\n",
      " ...\n",
      " [262. 177. 131.]\n",
      " [268.  55. 188.]\n",
      " [148.  12. 155.]]\n",
      "[[0. 1. 0.]\n",
      " [1. 0. 0.]\n",
      " [0. 0. 1.]\n",
      " ...\n",
      " [0. 0. 1.]\n",
      " [0. 0. 1.]\n",
      " [0. 1. 0.]]\n"
     ]
    }
   ],
   "source": [
    "read_input=np.load(\"../simple_network/Data/input_data_set.npz\", allow_pickle=True)\n",
    "read_t=np.load(\"../simple_network/Data/t_set.npz\", allow_pickle=True)\n",
    "r_input_data=read_input[\"arr_0\"]\n",
    "r_t_data=read_t[\"arr_0\"]\n",
    "print(r_input_data)\n",
    "print(r_t_data)"
   ]
  },
  {
   "attachments": {},
   "cell_type": "markdown",
   "metadata": {},
   "source": [
    "## 가중치 W, 편향 B  생성 ##\n",
    "1. 정규분포를 따르는 랜덤수로 생성   (np.random.randn()을 사용하면 \"평균 = 0, 표준편차 = 1\"인 랜덤수가 생성됨.)\n",
    "    \n",
    "    0.01을 곱해주는 이유: w의 초기값이크면 gradient vanishing 문제가 발생할 수 있음.\n",
    "\n",
    "    따라서 초기 가중치 값에 0.01을 곱해 표준편차를 0.01로 만들어줌.\n"
   ]
  },
  {
   "cell_type": "code",
   "execution_count": 264,
   "metadata": {},
   "outputs": [
    {
     "name": "stdout",
     "output_type": "stream",
     "text": [
      "{'W1': array([[ 0.1594863 , -1.71468747,  0.21852038,  1.31476412],\n",
      "       [ 0.28219757, -0.84008366, -0.97997099,  0.27220219],\n",
      "       [ 1.14944062, -1.40832679,  0.09631079, -0.04712944]]), 'B1': array([0., 0., 0., 0.]), 'W2': array([[-0.00895927,  0.01202074, -0.00244403,  0.00181983],\n",
      "       [-0.01338409, -0.00516968, -0.00660834,  0.00305399],\n",
      "       [-0.01529869, -0.00705336, -0.02191124,  0.00092591],\n",
      "       [-0.01276128,  0.00634618,  0.00833959, -0.0064241 ]]), 'B2': array([0., 0., 0., 0.]), 'W3': array([[-0.0010002 ,  0.00248384,  0.01324728],\n",
      "       [ 0.00707038, -0.00249271, -0.01158886],\n",
      "       [ 0.00051597, -0.0027449 ,  0.01371886],\n",
      "       [-0.00296105, -0.00218017,  0.00459657]]), 'B3': array([0., 0., 0.])}\n"
     ]
    }
   ],
   "source": [
    "weight_init_std=0.01\n",
    "params={}\n",
    "params['W1']=weight_init_std*np.random.randn(3,4)\n",
    "params['B1']=np.zeros(4)\n",
    "params['W2']=weight_init_std*np.random.randn(4,4)\n",
    "params['B2']=np.zeros(4)\n",
    "params['W3']=weight_init_std*np.random.randn(4,3)\n",
    "params['B3']=np.zeros(3)\n"
   ]
  },
  {
   "attachments": {},
   "cell_type": "markdown",
   "metadata": {},
   "source": [
    "2. constant로 생성"
   ]
  },
  {
   "cell_type": "code",
   "execution_count": 272,
   "metadata": {},
   "outputs": [],
   "source": [
    "params['W1']=np.zeros((3,4))\n",
    "params['B1']=np.zeros(4)\n",
    "params['W2']=np.zeros((4,4))\n",
    "params['B2']=np.zeros(4)\n",
    "params['W3']=np.zeros((4,3))\n",
    "params['B3']=np.zeros(3)\n",
    "\n",
    "params['W1'].fill(0.1)\n",
    "params['W2'].fill(0.1)\n",
    "params['W3'].fill(0.1)\n"
   ]
  },
  {
   "attachments": {},
   "cell_type": "markdown",
   "metadata": {},
   "source": [
    "3. 균일분포를 따르는 랜덤수로 생성"
   ]
  },
  {
   "cell_type": "code",
   "execution_count": 274,
   "metadata": {},
   "outputs": [
    {
     "name": "stdout",
     "output_type": "stream",
     "text": [
      "{'W1': array([[-0.89253291, -0.20755451, -0.66512836,  0.64380782],\n",
      "       [ 0.40105725,  0.76615519,  0.93315021,  0.54949523],\n",
      "       [ 0.98846617,  0.22953977, -0.92574079, -0.97149697]]), 'B1': array([0., 0., 0., 0.]), 'W2': array([[-0.31579225,  0.64694344,  0.73226941,  0.92162506],\n",
      "       [-0.86975706, -0.91085778,  0.82656719, -0.3899066 ],\n",
      "       [ 0.1159748 ,  0.96488977, -0.19910293,  0.3317428 ],\n",
      "       [-0.19824087,  0.53638933,  0.05542945, -0.52495372]]), 'B2': array([0., 0., 0., 0.]), 'W3': array([[-0.4573878 , -0.48388157,  0.06464066],\n",
      "       [ 0.40637803,  0.8985598 ,  0.38817475],\n",
      "       [ 0.56238569, -0.66214777, -0.25187475],\n",
      "       [-0.17243956,  0.37276046, -0.40821605]]), 'B3': array([0., 0., 0.])}\n"
     ]
    }
   ],
   "source": [
    "weight_init_std=0.01\n",
    "params={}\n",
    "params['W1']=np.random.uniform(-1,1,(3,4))\n",
    "params['B1']=np.zeros(4)\n",
    "params['W2']=np.random.uniform(-1,1,(4,4))\n",
    "params['B2']=np.zeros(4)\n",
    "params['W3']=np.random.uniform(-1,1,(4,3))\n",
    "params['B3']=np.zeros(3)\n",
    "print(params)"
   ]
  },
  {
   "attachments": {},
   "cell_type": "markdown",
   "metadata": {},
   "source": [
    "## 가중치 W, 편향 B weight_bias.npz 파일에 저장\n",
    "\n",
    "np.savez() --> 여러개의 배열을 1개의 압축되지 않은 *.npz 포맷 파일로 저장하기 (Save several arrays into a single file in uncompressed .npz format)"
   ]
  },
  {
   "cell_type": "code",
   "execution_count": 275,
   "metadata": {},
   "outputs": [],
   "source": [
    "np.savez(\"../simple_network/Data/weight_bias.npz\", **params)"
   ]
  },
  {
   "attachments": {},
   "cell_type": "markdown",
   "metadata": {},
   "source": [
    "##### dictionary형 변수 csv파일에 저장"
   ]
  },
  {
   "cell_type": "code",
   "execution_count": 239,
   "metadata": {},
   "outputs": [],
   "source": [
    "# open a file in write mode\n",
    "with open('../simple_network/Data/weight_bias.csv', 'w', newline='') as f:\n",
    "    # create a csv writer\n",
    "    writer = csv.writer(f)\n",
    "    # write the keys of the dictionary as the header row\n",
    "    writer.writerow(params.keys())\n",
    "    # write the values of the dictionary as a single row\n",
    "    writer.writerow(params.values())\n"
   ]
  },
  {
   "attachments": {},
   "cell_type": "markdown",
   "metadata": {},
   "source": [
    "npz 변수 파일 불러오기\n",
    "\n",
    "np.load(\"파일명\",allow_pickle=True)"
   ]
  },
  {
   "cell_type": "code",
   "execution_count": 240,
   "metadata": {},
   "outputs": [
    {
     "name": "stdout",
     "output_type": "stream",
     "text": [
      "{'W1': array([[1., 1., 1., 1.],\n",
      "       [1., 1., 1., 1.],\n",
      "       [1., 1., 1., 1.]]), 'B1': array([0., 0., 0., 0.]), 'W2': array([[1., 1., 1., 1.],\n",
      "       [1., 1., 1., 1.],\n",
      "       [1., 1., 1., 1.],\n",
      "       [1., 1., 1., 1.]]), 'B2': array([0., 0., 0., 0.]), 'W3': array([[1., 1., 1.],\n",
      "       [1., 1., 1.],\n",
      "       [1., 1., 1.],\n",
      "       [1., 1., 1.]]), 'B3': array([0., 0., 0.])}\n",
      "{'W1': array([[1., 1., 1., 1.],\n",
      "       [1., 1., 1., 1.],\n",
      "       [1., 1., 1., 1.]]), 'B1': array([0., 0., 0., 0.]), 'W2': array([[1., 1., 1., 1.],\n",
      "       [1., 1., 1., 1.],\n",
      "       [1., 1., 1., 1.],\n",
      "       [1., 1., 1., 1.]]), 'B2': array([0., 0., 0., 0.]), 'W3': array([[1., 1., 1.],\n",
      "       [1., 1., 1.],\n",
      "       [1., 1., 1.],\n",
      "       [1., 1., 1.]]), 'B3': array([0., 0., 0.])}\n"
     ]
    }
   ],
   "source": [
    "my_dictionary = np.load(\"../simple_network/Data/weight_bias.npz\", allow_pickle=True)\n",
    "paaa=dict(my_dictionary)\n",
    "print(paaa)\n",
    "print(params)"
   ]
  }
 ],
 "metadata": {
  "kernelspec": {
   "display_name": "newenv",
   "language": "python",
   "name": "python3"
  },
  "language_info": {
   "codemirror_mode": {
    "name": "ipython",
    "version": 3
   },
   "file_extension": ".py",
   "mimetype": "text/x-python",
   "name": "python",
   "nbconvert_exporter": "python",
   "pygments_lexer": "ipython3",
   "version": "3.9.15"
  },
  "orig_nbformat": 4,
  "vscode": {
   "interpreter": {
    "hash": "d687b6d8650b2ea4e21153130b22f15949f90b06ff6157902312f38eb51c9b0e"
   }
  }
 },
 "nbformat": 4,
 "nbformat_minor": 2
}
