{
 "cells": [
  {
   "attachments": {},
   "cell_type": "markdown",
   "metadata": {},
   "source": [
    "import"
   ]
  },
  {
   "cell_type": "code",
   "execution_count": 81,
   "metadata": {},
   "outputs": [],
   "source": [
    "import numpy as np\n",
    "import sys,os\n",
    "import random\n",
    "import matplotlib.pyplot as plt\n",
    "import csv\n",
    "import ast\n",
    "from collections import OrderedDict"
   ]
  },
  {
   "attachments": {},
   "cell_type": "markdown",
   "metadata": {},
   "source": [
    "Input Data 생성\n",
    "\n",
    "x, y, z 데이터 중 \n",
    "\n",
    "x가 0~99이면    정답 => [1,0,0]\n",
    "\n",
    "x가 100~199이면 정답 => [0,1,0]\n",
    "\n",
    "x가 200~299이면 정답 => [0,0,1]"
   ]
  },
  {
   "cell_type": "code",
   "execution_count": 88,
   "metadata": {},
   "outputs": [
    {
     "name": "stdout",
     "output_type": "stream",
     "text": [
      "(1100, 3)\n"
     ]
    }
   ],
   "source": [
    "input_data=np.empty((0,3))\n",
    "t=np.empty((0,3))\n",
    "for i in range(1100):\n",
    "    input_data=np.append(input_data, np.array([[random.randrange(0,300) for j in range(3)]]),axis=0)\n",
    "    x=input_data[-1,0]\n",
    "    if x<100:\n",
    "        t=np.append(t,np.array([[1, 0, 0]]),axis=0)\n",
    "    elif x<200:\n",
    "        t=np.append(t,np.array([[0, 1, 0]]),axis=0)\n",
    "    elif x<300:\n",
    "        t=np.append(t,np.array([[0, 0, 1]]),axis=0)\n",
    "print(input_data.shape)"
   ]
  },
  {
   "attachments": {},
   "cell_type": "markdown",
   "metadata": {},
   "source": [
    "Input Data Normalize  (0~1)\n",
    "\n",
    "정규화 식\n",
    "\n",
    "\n",
    "<img src = \"../simple_network/Data/normalize.png\" width = \"200\" height = \"75\">\n",
    "\n"
   ]
  },
  {
   "cell_type": "code",
   "execution_count": 90,
   "metadata": {},
   "outputs": [
    {
     "name": "stdout",
     "output_type": "stream",
     "text": [
      "[[ 47.  38. 185.]\n",
      " [178. 218. 166.]\n",
      " [287. 186. 281.]\n",
      " ...\n",
      " [ 86. 205. 253.]\n",
      " [ 82.  65. 242.]\n",
      " [ 59. 212.  88.]]\n",
      "[[0.15719064 0.1270903  0.6187291 ]\n",
      " [0.59531773 0.72909699 0.55518395]\n",
      " [0.95986622 0.62207358 0.93979933]\n",
      " ...\n",
      " [0.28762542 0.68561873 0.84615385]\n",
      " [0.27424749 0.2173913  0.80936455]\n",
      " [0.19732441 0.7090301  0.29431438]]\n"
     ]
    }
   ],
   "source": [
    "input_max=299\n",
    "input_min=0\n",
    "de=input_max-input_min\n",
    "normalize_input=np.zeros((1100,3),dtype=float)\n",
    "for i in range(1100):\n",
    "    for j in range(3):\n",
    "        normalize_input[i,j]=(input_data[i,j]-input_min)/de\n",
    "print(input_data)\n",
    "print(normalize_input)"
   ]
  },
  {
   "attachments": {},
   "cell_type": "markdown",
   "metadata": {},
   "source": [
    "Input Data 파일에 저장"
   ]
  },
  {
   "cell_type": "code",
   "execution_count": 68,
   "metadata": {},
   "outputs": [],
   "source": [
    "np.savez(\"../simple_network/Data/input_data_set.npz\", input_data)\n",
    "np.savez(\"../simple_network/Data/t_set.npz\", t)"
   ]
  },
  {
   "attachments": {},
   "cell_type": "markdown",
   "metadata": {},
   "source": [
    "Input Data 파일 읽기 테스트\n",
    "\n",
    "np.savez()를 사용하여 numpy array 형 변수 읽어오기\n"
   ]
  },
  {
   "cell_type": "code",
   "execution_count": 69,
   "metadata": {},
   "outputs": [
    {
     "name": "stdout",
     "output_type": "stream",
     "text": [
      "[[ 38. 248. 180.]\n",
      " [294. 221.  38.]\n",
      " [170. 215. 246.]\n",
      " ...\n",
      " [271.  56.  17.]\n",
      " [ 27. 111. 110.]\n",
      " [224. 281.  72.]]\n",
      "[[1. 0. 0.]\n",
      " [0. 0. 1.]\n",
      " [0. 1. 0.]\n",
      " ...\n",
      " [0. 0. 1.]\n",
      " [1. 0. 0.]\n",
      " [0. 0. 1.]]\n"
     ]
    }
   ],
   "source": [
    "read_input=np.load(\"../simple_network/Data/input_data_set.npz\", allow_pickle=True)\n",
    "read_t=np.load(\"../simple_network/Data/t_set.npz\", allow_pickle=True)\n",
    "r_input_data=read_input[\"arr_0\"]\n",
    "r_t_data=read_t[\"arr_0\"]\n",
    "print(r_input_data)\n",
    "print(r_t_data)"
   ]
  },
  {
   "attachments": {},
   "cell_type": "markdown",
   "metadata": {},
   "source": [
    "가중치 W, 편향 B  생성"
   ]
  },
  {
   "cell_type": "code",
   "execution_count": 70,
   "metadata": {},
   "outputs": [],
   "source": [
    "weight_init_std=0.01\n",
    "params={}\n",
    "params['W1']=weight_init_std*np.random.randn(3,4)\n",
    "params['B1']=np.zeros(4)\n",
    "params['W2']=weight_init_std*np.random.randn(4,4)\n",
    "params['B2']=np.zeros(4)\n",
    "params['W3']=weight_init_std*np.random.randn(4,3)\n",
    "params['B3']=np.zeros(3)"
   ]
  },
  {
   "attachments": {},
   "cell_type": "markdown",
   "metadata": {},
   "source": [
    "가중치 W, 편향 B weight_bias.npz 파일에 저장\n",
    "\n",
    "np.savez() --> 여러개의 배열을 1개의 압축되지 않은 *.npz 포맷 파일로 저장하기 (Save several arrays into a single file in uncompressed .npz format)"
   ]
  },
  {
   "cell_type": "code",
   "execution_count": 71,
   "metadata": {},
   "outputs": [],
   "source": [
    "np.savez(\"../simple_network/Data/weight_bias.npz\", **params)"
   ]
  },
  {
   "attachments": {},
   "cell_type": "markdown",
   "metadata": {},
   "source": [
    "dictionary형 변수 csv파일에 저장"
   ]
  },
  {
   "cell_type": "code",
   "execution_count": 80,
   "metadata": {},
   "outputs": [],
   "source": [
    "# open a file in write mode\n",
    "with open('../simple_network/Data/weight_bias.csv', 'w', newline='') as f:\n",
    "    # create a csv writer\n",
    "    writer = csv.writer(f)\n",
    "    # write the keys of the dictionary as the header row\n",
    "    writer.writerow(params.keys())\n",
    "    # write the values of the dictionary as a single row\n",
    "    writer.writerow(params.values())\n"
   ]
  },
  {
   "attachments": {},
   "cell_type": "markdown",
   "metadata": {},
   "source": [
    "npz 변수 파일 불러오기\n",
    "\n",
    "np.load(\"파일명\",allow_pickle=True)"
   ]
  },
  {
   "cell_type": "code",
   "execution_count": null,
   "metadata": {},
   "outputs": [
    {
     "name": "stdout",
     "output_type": "stream",
     "text": [
      "{'W1': array([[ 0.00100129,  0.00171493, -0.00744984, -0.0072463 ],\n",
      "       [-0.00279707,  0.00038611,  0.00059763,  0.00212727],\n",
      "       [ 0.01015244,  0.00896603,  0.01394524, -0.0116384 ]]), 'B1': array([0., 0., 0., 0.]), 'W2': array([[-0.01714785, -0.00084621,  0.01958009, -0.00482689],\n",
      "       [-0.01493078, -0.00666829,  0.0004003 ,  0.00723725],\n",
      "       [ 0.00795616,  0.00925017, -0.00475119, -0.01221938],\n",
      "       [-0.00141743, -0.00099722,  0.01345534, -0.0136539 ]]), 'B2': array([0., 0., 0., 0.]), 'W3': array([[-0.00407708,  0.01794706, -0.00590321],\n",
      "       [ 0.00541239,  0.00931136, -0.01577636],\n",
      "       [-0.00011345, -0.00815884,  0.02110812],\n",
      "       [-0.00380722,  0.00679975, -0.01780934]]), 'B3': array([0., 0., 0.])}\n",
      "{'W1': array([[ 0.00100129,  0.00171493, -0.00744984, -0.0072463 ],\n",
      "       [-0.00279707,  0.00038611,  0.00059763,  0.00212727],\n",
      "       [ 0.01015244,  0.00896603,  0.01394524, -0.0116384 ]]), 'B1': array([0., 0., 0., 0.]), 'W2': array([[-0.01714785, -0.00084621,  0.01958009, -0.00482689],\n",
      "       [-0.01493078, -0.00666829,  0.0004003 ,  0.00723725],\n",
      "       [ 0.00795616,  0.00925017, -0.00475119, -0.01221938],\n",
      "       [-0.00141743, -0.00099722,  0.01345534, -0.0136539 ]]), 'B2': array([0., 0., 0., 0.]), 'W3': array([[-0.00407708,  0.01794706, -0.00590321],\n",
      "       [ 0.00541239,  0.00931136, -0.01577636],\n",
      "       [-0.00011345, -0.00815884,  0.02110812],\n",
      "       [-0.00380722,  0.00679975, -0.01780934]]), 'B3': array([0., 0., 0.])}\n"
     ]
    }
   ],
   "source": [
    "my_dictionary = np.load(\"../simple_network/Data/weight_bias.npz\", allow_pickle=True)\n",
    "paaa=dict(my_dictionary)\n",
    "print(paaa)\n",
    "print(params)"
   ]
  }
 ],
 "metadata": {
  "kernelspec": {
   "display_name": "newenv",
   "language": "python",
   "name": "python3"
  },
  "language_info": {
   "codemirror_mode": {
    "name": "ipython",
    "version": 3
   },
   "file_extension": ".py",
   "mimetype": "text/x-python",
   "name": "python",
   "nbconvert_exporter": "python",
   "pygments_lexer": "ipython3",
   "version": "3.9.15"
  },
  "orig_nbformat": 4,
  "vscode": {
   "interpreter": {
    "hash": "d687b6d8650b2ea4e21153130b22f15949f90b06ff6157902312f38eb51c9b0e"
   }
  }
 },
 "nbformat": 4,
 "nbformat_minor": 2
}
