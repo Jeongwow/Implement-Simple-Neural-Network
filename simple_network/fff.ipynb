{
 "cells": [
  {
   "cell_type": "code",
   "execution_count": null,
   "metadata": {},
   "outputs": [],
   "source": []
  },
  {
   "attachments": {},
   "cell_type": "markdown",
   "metadata": {},
   "source": [
    "sdf\n"
   ]
  }
 ],
 "metadata": {
  "kernelspec": {
   "display_name": "newenv",
   "language": "python",
   "name": "python3"
  },
  "language_info": {
   "name": "python",
   "version": "3.9.6 | packaged by conda-forge | (default, Jul 11 2021, 03:35:11) \n[Clang 11.1.0 ]"
  },
  "orig_nbformat": 4,
  "vscode": {
   "interpreter": {
    "hash": "d687b6d8650b2ea4e21153130b22f15949f90b06ff6157902312f38eb51c9b0e"
   }
  }
 },
 "nbformat": 4,
 "nbformat_minor": 2
}
